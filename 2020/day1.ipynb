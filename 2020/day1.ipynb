{
 "cells": [
  {
   "cell_type": "code",
   "execution_count": 2,
   "id": "d02d29b5",
   "metadata": {},
   "outputs": [
    {
     "ename": "NameError",
     "evalue": "name 'hello_world' is not defined",
     "output_type": "error",
     "traceback": [
      "\u001b[0;31m---------------------------------------------------------------------------\u001b[0m",
      "\u001b[0;31mNameError\u001b[0m                                 Traceback (most recent call last)",
      "\u001b[0;32m/var/folders/_8/bkckzlsx6dnb08xk6jp_hvnw0000gn/T/ipykernel_88130/683195558.py\u001b[0m in \u001b[0;36m<module>\u001b[0;34m\u001b[0m\n\u001b[0;32m----> 1\u001b[0;31m \u001b[0mhello_world\u001b[0m\u001b[0;34m(\u001b[0m\u001b[0;34m)\u001b[0m\u001b[0;34m\u001b[0m\u001b[0;34m\u001b[0m\u001b[0m\n\u001b[0m",
      "\u001b[0;31mNameError\u001b[0m: name 'hello_world' is not defined"
     ]
    }
   ],
   "source": [
    "import requests\n",
    "day = 1\n",
    "cookies={'session':'53616c7465645f5f59121cb1d0bd7cb70e839c53b44648563a1a4c4c1cd71bbb08b0cbaa7eff4f823d4abc7709651791'}\n",
    "r = requests.get(f'https://adventofcode.com/2020/day/{day}/input',cookies=cookies ).text\n"
   ]
  },
  {
   "cell_type": "code",
   "execution_count": null,
   "id": "d71b7c20",
   "metadata": {},
   "outputs": [],
   "source": [
    "data = [int(s) for s in r.split()]"
   ]
  },
  {
   "cell_type": "code",
   "execution_count": null,
   "id": "03519225",
   "metadata": {},
   "outputs": [],
   "source": [
    "# part 1\n",
    "done = False\n",
    "for n in data:\n",
    "    for m in data:\n",
    "            if not done and n + m == 2020:\n",
    "                print(n*m)\n",
    "                done = True\n"
   ]
  },
  {
   "cell_type": "code",
   "execution_count": null,
   "id": "6970dcda",
   "metadata": {},
   "outputs": [],
   "source": [
    "# part 2\n",
    "done = False\n",
    "for n in data:\n",
    "    for m in data:\n",
    "        for o in data: \n",
    "            if not done and n + m + o == 2020:\n",
    "                print(n*m*o)\n",
    "                done = True"
   ]
  }
 ],
 "metadata": {
  "kernelspec": {
   "display_name": "Python [conda env:advent]",
   "language": "python",
   "name": "conda-env-advent-py"
  },
  "language_info": {
   "codemirror_mode": {
    "name": "ipython",
    "version": 3
   },
   "file_extension": ".py",
   "mimetype": "text/x-python",
   "name": "python",
   "nbconvert_exporter": "python",
   "pygments_lexer": "ipython3",
   "version": "3.9.7"
  }
 },
 "nbformat": 4,
 "nbformat_minor": 5
}
