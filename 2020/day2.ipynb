{
 "cells": [
  {
   "cell_type": "code",
   "execution_count": 44,
   "id": "6a26239c",
   "metadata": {},
   "outputs": [],
   "source": [
    "%config Completer.use_jedi = False"
   ]
  },
  {
   "cell_type": "code",
   "execution_count": 26,
   "id": "26cddb2d",
   "metadata": {},
   "outputs": [],
   "source": [
    "import requests\n",
    "day = 2\n",
    "cookies={'session':'53616c7465645f5f59121cb1d0bd7cb70e839c53b44648563a1a4c4c1cd71bbb08b0cbaa7eff4f823d4abc7709651791'}\n",
    "r = requests.get(f'https://adventofcode.com/2020/day/{day}/input',cookies=cookies ).text"
   ]
  },
  {
   "cell_type": "code",
   "execution_count": 55,
   "id": "00bd43fb",
   "metadata": {},
   "outputs": [],
   "source": [
    "import re\n",
    "lower = re.compile(r'\\d+-')\n",
    "upper = re.compile(r'-\\d+')\n",
    "letter = re.compile(r'\\w:')\n",
    "password = re.compile(r':\\s\\w*')\n",
    "d1 = r.strip().split('\\n')\n",
    "\n",
    "d2 = [{'lower':lower.search(pair).group(), 'upper':upper.search(pair).group(), \n",
    "       'letter':letter.search(pair).group(), 'password':password.search(pair).group()} for pair in d1]\n",
    "\n",
    "d3 = [{'lower':int(d['lower'][0:-1]), 'upper':int(d['upper'][1:]), \n",
    "       'letter':d['letter'][0:1], 'password':d['password'][2:]} for d in d2]\n"
   ]
  },
  {
   "cell_type": "code",
   "execution_count": 56,
   "id": "cf09a8f9",
   "metadata": {},
   "outputs": [
    {
     "name": "stdout",
     "output_type": "stream",
     "text": [
      "398\n"
     ]
    }
   ],
   "source": [
    "#part 1\n",
    "valid = 0\n",
    "for d in d3:\n",
    "    \n",
    "    count = d['password'].count(d['letter'])\n",
    "    if count >= d['lower'] and count <= d['upper']:\n",
    "        valid+= 1\n",
    "        \n",
    "        \n",
    "print(valid)"
   ]
  },
  {
   "cell_type": "code",
   "execution_count": 59,
   "id": "af1df1c0",
   "metadata": {},
   "outputs": [
    {
     "name": "stdout",
     "output_type": "stream",
     "text": [
      "562\n"
     ]
    }
   ],
   "source": [
    "#part 2\n",
    "valid = 0\n",
    "for d in d3:\n",
    "    pos1 = d['password'][d['lower']-1]\n",
    "    pos2 = d['password'][d['upper']-1]\n",
    "    \n",
    "    if (pos1 == d['letter'] or pos2 == d['letter']) and pos1 != pos2:\n",
    "        valid+= 1\n",
    "        \n",
    "        \n",
    "print(valid)"
   ]
  }
 ],
 "metadata": {
  "kernelspec": {
   "display_name": "Python 3",
   "language": "python",
   "name": "python3"
  },
  "language_info": {
   "codemirror_mode": {
    "name": "ipython",
    "version": 3
   },
   "file_extension": ".py",
   "mimetype": "text/x-python",
   "name": "python",
   "nbconvert_exporter": "python",
   "pygments_lexer": "ipython3",
   "version": "3.9.5"
  }
 },
 "nbformat": 4,
 "nbformat_minor": 5
}
